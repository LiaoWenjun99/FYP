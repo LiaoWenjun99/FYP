## IMPORTING RELEVANT TOOLS AND DATA ##
import pandas as pd
from sklearn.datasets import fetch_openml
import matplotlib as mpl
import matplotlib.pyplot as plt
mnist = fetch_openml('mnist_784', version=1)
mnist.keys()
X, y = mnist["data"], mnist["target"]
mnist["data"]
print(X.shape)
