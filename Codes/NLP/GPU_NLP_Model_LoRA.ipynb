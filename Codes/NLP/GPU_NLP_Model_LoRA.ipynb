{
 "cells": [
  {
   "cell_type": "code",
   "execution_count": 1,
   "id": "3376307f",
   "metadata": {},
   "outputs": [],
   "source": [
    "import torch\n",
    "from transformers import AutoTokenizer, TrainingArguments, Trainer, AutoModelForSequenceClassification\n",
    "from sklearn.metrics import matthews_corrcoef, f1_score\n",
    "from sklearn.model_selection import train_test_split\n",
    "import matplotlib.pyplot as plt\n",
    "import numpy as np\n",
    "import pandas as pd\n",
    "from datasets import Dataset\n",
    "from accelerate import Accelerator\n",
    "import logging\n",
    "from sklearn.metrics import precision_recall_fscore_support\n",
    "from peft import IA3Model, IA3Config"
   ]
  },
  {
   "cell_type": "code",
   "execution_count": 2,
   "id": "b077b28a",
   "metadata": {},
   "outputs": [],
   "source": [
    "# Cell 2: Define the working device\n",
    "device = torch.device(\"cuda\")"
   ]
  },
  {
   "cell_type": "code",
   "execution_count": 3,
   "id": "947ee686",
   "metadata": {},
   "outputs": [
    {
     "name": "stderr",
     "output_type": "stream",
     "text": [
      "Some weights of EsmForSequenceClassification were not initialized from the model checkpoint at /hpctmp/e0543831/GPU/InstaDeepAI and are newly initialized: ['classifier.dense.bias', 'classifier.dense.weight', 'classifier.out_proj.bias', 'classifier.out_proj.weight']\n",
      "You should probably TRAIN this model on a down-stream task to be able to use it for predictions and inference.\n"
     ]
    }
   ],
   "source": [
    "# Cell 3: Load the model\n",
    "num_class = 3\n",
    "model = AutoModelForSequenceClassification.from_pretrained(\"/hpctmp/e0543831/GPU/InstaDeepAI\", num_labels=num_class)\n",
    "model = model.to(device)"
   ]
  },
  {
   "cell_type": "code",
   "execution_count": 4,
   "id": "db379738",
   "metadata": {},
   "outputs": [],
   "source": [
    "# Cell 4: Import dataset\n",
    "samples_dataframe_H = pd.read_csv(\"unique_sequences_H.csv\", names=['sequence'])\n",
    "samples_dataframe_M = pd.read_csv(\"unique_sequences_M.csv\", names=['sequence'])\n",
    "samples_dataframe_L = pd.read_csv(\"unique_sequences_L.csv\", names=['sequence'])\n"
   ]
  },
  {
   "cell_type": "code",
   "execution_count": 5,
   "id": "4e1c2a54",
   "metadata": {},
   "outputs": [],
   "source": [
    "# Cell 5: Data Preprocessing\n",
    "num_random_rows = 200000\n",
    "H_rand = samples_dataframe_H.sample(n=num_random_rows)\n",
    "H_rand = H_rand[~H_rand['sequence'].str.contains('N')]\n",
    "\n",
    "M_rand = samples_dataframe_M.sample(n=num_random_rows)\n",
    "M_rand = M_rand[~M_rand['sequence'].str.contains('N')]\n",
    "\n",
    "L_rand = samples_dataframe_L.sample(n=num_random_rows)\n",
    "L_rand = L_rand[~L_rand['sequence'].str.contains('N')]\n",
    "\n",
    "samples_all = pd.concat([H_rand, M_rand, L_rand])"
   ]
  },
  {
   "cell_type": "code",
   "execution_count": 6,
   "id": "3efc7a0f",
   "metadata": {},
   "outputs": [],
   "source": [
    "# Cell 6: Creating labels for H, M, L\n",
    "H_perflist_H = [0]*len(H_rand)\n",
    "H_perflist_M = [1]*len(M_rand)\n",
    "H_perflist_L = [2]*len(L_rand)\n",
    "H_perflist = H_perflist_H + H_perflist_M + H_perflist_L\n",
    "\n",
    "H_perflist = np.array(H_perflist)\n",
    "df_temp = pd.DataFrame(H_perflist, columns=['label'], dtype='int32', index=samples_all.index)\n",
    "samples_all = pd.concat([samples_all, df_temp], axis=1)"
   ]
  },
  {
   "cell_type": "code",
   "execution_count": 7,
   "id": "02ebfa0b",
   "metadata": {},
   "outputs": [],
   "source": [
    "# Cell 7: Split the combined dataset into training, validation, and test sets\n",
    "train_ratio = 0.7\n",
    "val_ratio = 0.1\n",
    "test_ratio = 0.2\n",
    "\n",
    "train_data, val_test_data = train_test_split(samples_all, test_size=val_ratio + test_ratio, random_state=42)\n",
    "val_data, test_data = train_test_split(val_test_data, test_size=test_ratio / (val_ratio + test_ratio), random_state=42)\n",
    "\n",
    "train_sequences = train_data['sequence'].tolist()\n",
    "train_labels = train_data['label'].tolist()\n",
    "\n",
    "val_sequences = val_data['sequence'].tolist()\n",
    "val_labels = val_data['label'].tolist()\n",
    "\n",
    "test_sequences = test_data['sequence'].tolist()\n",
    "test_labels = test_data['label'].tolist()"
   ]
  },
  {
   "cell_type": "code",
   "execution_count": 8,
   "id": "ea038a87",
   "metadata": {},
   "outputs": [],
   "source": [
    "# In [8]:\n",
    "### TOKENINIZING THE DATASET ###\n",
    "# Load the tokenizer\n",
    "tokenizer = AutoTokenizer.from_pretrained(\"/hpctmp/e0543831/GPU/InstaDeepAI\")\n"
   ]
  },
  {
   "cell_type": "code",
   "execution_count": 9,
   "id": "6a6725fe",
   "metadata": {},
   "outputs": [],
   "source": [
    "# In [9]:\n",
    "# Convert the split dataframes to Hugging Face Datasets\n",
    "train_dataset = Dataset.from_dict({\"data\": train_sequences, 'labels': train_labels})\n",
    "val_dataset = Dataset.from_dict({\"data\": val_sequences, 'labels': val_labels})\n",
    "test_dataset = Dataset.from_dict({\"data\": test_sequences, 'labels': test_labels})\n"
   ]
  },
  {
   "cell_type": "code",
   "execution_count": 10,
   "id": "a75a7bcb",
   "metadata": {},
   "outputs": [
    {
     "data": {
      "application/vnd.jupyter.widget-view+json": {
       "model_id": "99fec37e82f142f6a6ac2d8c97ea5485",
       "version_major": 2,
       "version_minor": 0
      },
      "text/plain": [
       "Map:   0%|          | 0/417050 [00:00<?, ? examples/s]"
      ]
     },
     "metadata": {},
     "output_type": "display_data"
    },
    {
     "data": {
      "application/vnd.jupyter.widget-view+json": {
       "model_id": "6d49efaf7f764eda8b3b2b4486f0c528",
       "version_major": 2,
       "version_minor": 0
      },
      "text/plain": [
       "Map:   0%|          | 0/59578 [00:00<?, ? examples/s]"
      ]
     },
     "metadata": {},
     "output_type": "display_data"
    },
    {
     "data": {
      "application/vnd.jupyter.widget-view+json": {
       "model_id": "12cf1f5214534d5abbf2a3bd2462d0ca",
       "version_major": 2,
       "version_minor": 0
      },
      "text/plain": [
       "Map:   0%|          | 0/119158 [00:00<?, ? examples/s]"
      ]
     },
     "metadata": {},
     "output_type": "display_data"
    }
   ],
   "source": [
    "# In [10]:\n",
    "def tokenize_function(examples):\n",
    "    outputs = tokenizer(examples[\"data\"])\n",
    "    return outputs\n",
    "\n",
    "# Tokenize the datasets\n",
    "tokenized_train_dataset = train_dataset.map(\n",
    "    tokenize_function,\n",
    "    batched=True,\n",
    "    remove_columns=[\"data\"],\n",
    ")\n",
    "\n",
    "tokenized_val_dataset = val_dataset.map(\n",
    "    tokenize_function,\n",
    "    batched=True,\n",
    "    remove_columns=[\"data\"],\n",
    ")\n",
    "\n",
    "tokenized_test_dataset = test_dataset.map(\n",
    "    tokenize_function,\n",
    "    batched=True,\n",
    "    remove_columns=[\"data\"],\n",
    ")\n"
   ]
  },
  {
   "cell_type": "code",
   "execution_count": 11,
   "id": "2498c950",
   "metadata": {},
   "outputs": [
    {
     "name": "stdout",
     "output_type": "stream",
     "text": [
      "trainable params: 1,766,403 || all params: 482,208,487 || trainable%: 0.36631520340702756\n"
     ]
    },
    {
     "data": {
      "text/plain": [
       "PeftModelForSequenceClassification(\n",
       "  (base_model): LoraModel(\n",
       "    (model): EsmForSequenceClassification(\n",
       "      (esm): EsmModel(\n",
       "        (embeddings): EsmEmbeddings(\n",
       "          (word_embeddings): Embedding(4105, 1280, padding_idx=1)\n",
       "          (dropout): Dropout(p=0.0, inplace=False)\n",
       "          (position_embeddings): Embedding(1002, 1280, padding_idx=1)\n",
       "        )\n",
       "        (encoder): EsmEncoder(\n",
       "          (layer): ModuleList(\n",
       "            (0-23): 24 x EsmLayer(\n",
       "              (attention): EsmAttention(\n",
       "                (self): EsmSelfAttention(\n",
       "                  (query): lora.Linear(\n",
       "                    (base_layer): Linear(in_features=1280, out_features=1280, bias=True)\n",
       "                    (lora_dropout): ModuleDict(\n",
       "                      (default): Dropout(p=0.1, inplace=False)\n",
       "                    )\n",
       "                    (lora_A): ModuleDict(\n",
       "                      (default): Linear(in_features=1280, out_features=1, bias=False)\n",
       "                    )\n",
       "                    (lora_B): ModuleDict(\n",
       "                      (default): Linear(in_features=1, out_features=1280, bias=False)\n",
       "                    )\n",
       "                    (lora_embedding_A): ParameterDict()\n",
       "                    (lora_embedding_B): ParameterDict()\n",
       "                  )\n",
       "                  (key): Linear(in_features=1280, out_features=1280, bias=True)\n",
       "                  (value): lora.Linear(\n",
       "                    (base_layer): Linear(in_features=1280, out_features=1280, bias=True)\n",
       "                    (lora_dropout): ModuleDict(\n",
       "                      (default): Dropout(p=0.1, inplace=False)\n",
       "                    )\n",
       "                    (lora_A): ModuleDict(\n",
       "                      (default): Linear(in_features=1280, out_features=1, bias=False)\n",
       "                    )\n",
       "                    (lora_B): ModuleDict(\n",
       "                      (default): Linear(in_features=1, out_features=1280, bias=False)\n",
       "                    )\n",
       "                    (lora_embedding_A): ParameterDict()\n",
       "                    (lora_embedding_B): ParameterDict()\n",
       "                  )\n",
       "                  (dropout): Dropout(p=0.0, inplace=False)\n",
       "                )\n",
       "                (output): EsmSelfOutput(\n",
       "                  (dense): Linear(in_features=1280, out_features=1280, bias=True)\n",
       "                  (dropout): Dropout(p=0.0, inplace=False)\n",
       "                )\n",
       "                (LayerNorm): LayerNorm((1280,), eps=1e-12, elementwise_affine=True)\n",
       "              )\n",
       "              (intermediate): EsmIntermediate(\n",
       "                (dense): Linear(in_features=1280, out_features=5120, bias=True)\n",
       "              )\n",
       "              (output): EsmOutput(\n",
       "                (dense): Linear(in_features=5120, out_features=1280, bias=True)\n",
       "                (dropout): Dropout(p=0.0, inplace=False)\n",
       "              )\n",
       "              (LayerNorm): LayerNorm((1280,), eps=1e-12, elementwise_affine=True)\n",
       "            )\n",
       "          )\n",
       "          (emb_layer_norm_after): LayerNorm((1280,), eps=1e-12, elementwise_affine=True)\n",
       "        )\n",
       "        (contact_head): EsmContactPredictionHead(\n",
       "          (regression): Linear(in_features=480, out_features=1, bias=True)\n",
       "          (activation): Sigmoid()\n",
       "        )\n",
       "      )\n",
       "      (classifier): ModulesToSaveWrapper(\n",
       "        (original_module): EsmClassificationHead(\n",
       "          (dense): Linear(in_features=1280, out_features=1280, bias=True)\n",
       "          (dropout): Dropout(p=0.0, inplace=False)\n",
       "          (out_proj): Linear(in_features=1280, out_features=3, bias=True)\n",
       "        )\n",
       "        (modules_to_save): ModuleDict(\n",
       "          (default): EsmClassificationHead(\n",
       "            (dense): Linear(in_features=1280, out_features=1280, bias=True)\n",
       "            (dropout): Dropout(p=0.0, inplace=False)\n",
       "            (out_proj): Linear(in_features=1280, out_features=3, bias=True)\n",
       "          )\n",
       "        )\n",
       "      )\n",
       "    )\n",
       "  )\n",
       ")"
      ]
     },
     "execution_count": 11,
     "metadata": {},
     "output_type": "execute_result"
    }
   ],
   "source": [
    "from peft import LoraConfig, TaskType\n",
    "\n",
    "peft_config = LoraConfig(\n",
    "    task_type=TaskType.SEQ_CLS, inference_mode=False, r=1, lora_alpha= 32, lora_dropout=0.1, target_modules= [\"query\", \"value\"],\n",
    "    #modules_to_save=[\"intermediate\"] # modules that are not frozen and updated during the training\n",
    ")\n",
    "\n",
    "from peft import get_peft_model\n",
    "\n",
    "lora_classifier = get_peft_model(model, peft_config) # transform our classifier into a peft model\n",
    "lora_classifier.print_trainable_parameters()\n",
    "lora_classifier.to(device) # Put the model on the GPU"
   ]
  },
  {
   "cell_type": "code",
   "execution_count": 12,
   "id": "35f06578",
   "metadata": {},
   "outputs": [],
   "source": [
    "# In [11]:\n",
    "batch_size = 32\n",
    "model_name = 'NLP_' + str(num_random_rows) +'_lora_Data_MCC'\n",
    "args = TrainingArguments(\n",
    "    f\"{model_name}-finetuned-lora-NucleotideTransformer\",\n",
    "    remove_unused_columns=False,\n",
    "    evaluation_strategy=\"steps\",\n",
    "    save_strategy=\"steps\",\n",
    "    learning_rate=1e-5,\n",
    "    per_device_train_batch_size=batch_size,\n",
    "    gradient_accumulation_steps=1,\n",
    "    per_device_eval_batch_size=64,\n",
    "    num_train_epochs=2,\n",
    "    logging_steps=500,\n",
    "    load_best_model_at_end=True,\n",
    "    metric_for_best_model=\"mcc_score\",\n",
    "    label_names=[\"labels\"],\n",
    "    dataloader_drop_last=True,\n",
    "    max_steps=1000\n",
    ")"
   ]
  },
  {
   "cell_type": "code",
   "execution_count": 13,
   "id": "5be717ff",
   "metadata": {},
   "outputs": [],
   "source": [
    "# In [12]:\n",
    "\"\"\"Next, we define the metric we will use to evaluate our models and write a `compute_metrics` function. We can load this from the `scikit-learn` library.\"\"\"\n",
    "def compute_metrics_mcc(eval_pred):\n",
    "    predictions = np.argmax(eval_pred.predictions, axis=-1)\n",
    "    references = eval_pred.label_ids\n",
    "    r = {'mcc_score': matthews_corrcoef(references, predictions)}\n",
    "    return r\n"
   ]
  },
  {
   "cell_type": "code",
   "execution_count": 14,
   "id": "941f4516",
   "metadata": {},
   "outputs": [
    {
     "name": "stderr",
     "output_type": "stream",
     "text": [
      "Detected kernel version 3.10.0, which is below the recommended minimum of 5.5.0; this can cause the process to hang. It is recommended to upgrade the kernel to the minimum version or higher.\n",
      "2024-04-05 00:11:03.908748: I tensorflow/core/platform/cpu_feature_guard.cc:210] This TensorFlow binary is optimized to use available CPU instructions in performance-critical operations.\n",
      "To enable the following instructions: AVX2 AVX512F FMA, in other operations, rebuild TensorFlow with the appropriate compiler flags.\n",
      "2024-04-05 00:11:06.033378: W tensorflow/compiler/tf2tensorrt/utils/py_utils.cc:38] TF-TRT Warning: Could not find TensorRT\n"
     ]
    }
   ],
   "source": [
    "# In [13]:\n",
    "trainer = Trainer(\n",
    "    lora_classifier,\n",
    "    args,\n",
    "    train_dataset=tokenized_train_dataset,\n",
    "    eval_dataset=tokenized_val_dataset,\n",
    "    tokenizer=tokenizer,\n",
    "    compute_metrics=compute_metrics_mcc,\n",
    ")"
   ]
  },
  {
   "cell_type": "code",
   "execution_count": 15,
   "id": "59db2c3f",
   "metadata": {},
   "outputs": [
    {
     "data": {
      "text/html": [
       "\n",
       "    <div>\n",
       "      \n",
       "      <progress value='1000' max='1000' style='width:300px; height:20px; vertical-align: middle;'></progress>\n",
       "      [1000/1000 24:17, Epoch 0/1]\n",
       "    </div>\n",
       "    <table border=\"1\" class=\"dataframe\">\n",
       "  <thead>\n",
       " <tr style=\"text-align: left;\">\n",
       "      <th>Step</th>\n",
       "      <th>Training Loss</th>\n",
       "      <th>Validation Loss</th>\n",
       "      <th>Mcc Score</th>\n",
       "    </tr>\n",
       "  </thead>\n",
       "  <tbody>\n",
       "    <tr>\n",
       "      <td>500</td>\n",
       "      <td>1.101100</td>\n",
       "      <td>1.099560</td>\n",
       "      <td>0.007943</td>\n",
       "    </tr>\n",
       "    <tr>\n",
       "      <td>1000</td>\n",
       "      <td>1.097600</td>\n",
       "      <td>1.096824</td>\n",
       "      <td>0.090212</td>\n",
       "    </tr>\n",
       "  </tbody>\n",
       "</table><p>"
      ],
      "text/plain": [
       "<IPython.core.display.HTML object>"
      ]
     },
     "metadata": {},
     "output_type": "display_data"
    },
    {
     "name": "stderr",
     "output_type": "stream",
     "text": [
      "/hpctmp/e0543831/virtualenv/lib/python3.10/site-packages/peft/utils/save_and_load.py:154: UserWarning: Could not find a config file in /hpctmp/e0543831/GPU/InstaDeepAI - will assume that the vocabulary was not modified.\n",
      "  warnings.warn(\n",
      "/hpctmp/e0543831/virtualenv/lib/python3.10/site-packages/peft/utils/save_and_load.py:154: UserWarning: Could not find a config file in /hpctmp/e0543831/GPU/InstaDeepAI - will assume that the vocabulary was not modified.\n",
      "  warnings.warn(\n"
     ]
    },
    {
     "name": "stdout",
     "output_type": "stream",
     "text": [
      "TrainOutput(global_step=1000, training_loss=1.0993876342773437, metrics={'train_runtime': 1458.5569, 'train_samples_per_second': 21.939, 'train_steps_per_second': 0.686, 'total_flos': 7854288253824000.0, 'train_loss': 1.0993876342773437, 'epoch': 0.08})\n"
     ]
    }
   ],
   "source": [
    "# In [14]:\n",
    "\"\"\"We can now finetune our model by just calling the `train` method:\"\"\"\n",
    "train_results = trainer.train()\n",
    "\n",
    "print(train_results)"
   ]
  },
  {
   "cell_type": "code",
   "execution_count": 16,
   "id": "948d912a",
   "metadata": {},
   "outputs": [
    {
     "data": {
      "image/png": "[encoded data removed]",
      "text/plain": [
       "<Figure size 640x480 with 1 Axes>"
      ]
     },
     "metadata": {},
     "output_type": "display_data"
    }
   ],
   "source": [
    "# In [15]:\n",
    "\"\"\"As with the first task, the time can be greatly reduced by increasing the batch size.\n",
    "\n",
    "#### **Validation MCC score**\n",
    "\"\"\"\n",
    "\n",
    "curve_evaluation_mcc_score = [[a['step'], a['eval_mcc_score']] for a in trainer.state.log_history if 'eval_mcc_score' in a.keys()]\n",
    "eval_mcc_score = [c[1] for c in curve_evaluation_mcc_score]\n",
    "steps = [c[0] for c in curve_evaluation_mcc_score]\n",
    "\n",
    "plt.plot(steps, eval_mcc_score, 'b', label='Validation MCC score')\n",
    "plt.title('Validation MCC score for enhancer prediction')\n",
    "plt.xlabel('Number of training steps performed')\n",
    "plt.ylabel('Validation MCC score')\n",
    "plt.legend()\n",
    "plt.show()"
   ]
  },
  {
   "cell_type": "code",
   "execution_count": 17,
   "id": "0302f021",
   "metadata": {},
   "outputs": [
    {
     "data": {
      "text/html": [],
      "text/plain": [
       "<IPython.core.display.HTML object>"
      ]
     },
     "metadata": {},
     "output_type": "display_data"
    },
    {
     "name": "stdout",
     "output_type": "stream",
     "text": [
      "MCC score on the test dataset: 0.09022547240485528\n"
     ]
    }
   ],
   "source": [
    "# In [16]:\n",
    "# \"\"\"#### **MCC on the test dataset**\"\"\"\n",
    "\n",
    "# # Compute the MCC score on the test dataset :\n",
    "print(f\"MCC score on the test dataset: {trainer.predict(tokenized_test_dataset).metrics['test_mcc_score']}\")\n"
   ]
  },
  {
   "cell_type": "code",
   "execution_count": 18,
   "id": "ebdebcb1",
   "metadata": {},
   "outputs": [],
   "source": [
    "# In [17]:\n",
    "#### **Validation F1 score**\n",
    "#curve_evaluation_f1_score =[[a['step'],a['eval_f1_score']] for a in trainer.state.log_history if 'eval_f1_score' in a.keys()]\n",
    "#eval_f1_score = [c[1] for c in curve_evaluation_f1_score]\n",
    "#steps = [c[0] for c in curve_evaluation_f1_score]\n",
    "\n",
    "#plt.plot(steps, eval_f1_score, 'b', label='Validation F1 score')\n",
    "#plt.title('Validation F1 score for promoter prediction')\n",
    "#plt.xlabel('Number of training steps performed')\n",
    "#plt.ylabel('Validation F1 score')\n",
    "#plt.legend()\n",
    "#plt.show()\n",
    "# Compute the F1 score on the test dataset :\n",
    "#print(f\"F1 score on the test dataset: {trainer.predict(tokenized_test_dataset).metrics['test_f1_score']}\")\n",
    "     \n"
   ]
  },
  {
   "cell_type": "code",
   "execution_count": 19,
   "id": "ef5ec091",
   "metadata": {},
   "outputs": [],
   "source": [
    "# Define the directory paths to save the model and tokenizer\n",
    "output_dir = 'TEST_trained_model_GPU_' + str(num_random_rows) + '_LoRA_sample_mcc_Score'\n",
    "tokenizer.save_pretrained(output_dir)\n",
    "model.save_pretrained(output_dir)\n"
   ]
  },
  {
   "cell_type": "code",
   "execution_count": 20,
   "id": "a06cc1eb",
   "metadata": {},
   "outputs": [
    {
     "name": "stderr",
     "output_type": "stream",
     "text": [
      "Some weights of the model checkpoint at TEST_trained_model_GPU_200000_LoRA_sample_mcc_Score were not used when initializing EsmForSequenceClassification: ['classifier.modules_to_save.default.dense.bias', 'classifier.modules_to_save.default.dense.weight', 'classifier.modules_to_save.default.out_proj.bias', 'classifier.modules_to_save.default.out_proj.weight', 'classifier.original_module.dense.bias', 'classifier.original_module.dense.weight', 'classifier.original_module.out_proj.bias', 'classifier.original_module.out_proj.weight', 'esm.encoder.layer.0.attention.self.query.base_layer.bias', 'esm.encoder.layer.0.attention.self.query.base_layer.weight', 'esm.encoder.layer.0.attention.self.query.lora_A.default.weight', 'esm.encoder.layer.0.attention.self.query.lora_B.default.weight', 'esm.encoder.layer.0.attention.self.value.base_layer.bias', 'esm.encoder.layer.0.attention.self.value.base_layer.weight', 'esm.encoder.layer.0.attention.self.value.lora_A.default.weight', 'esm.encoder.layer.0.attention.self.value.lora_B.default.weight', 'esm.encoder.layer.1.attention.self.query.base_layer.bias', 'esm.encoder.layer.1.attention.self.query.base_layer.weight', 'esm.encoder.layer.1.attention.self.query.lora_A.default.weight', 'esm.encoder.layer.1.attention.self.query.lora_B.default.weight', 'esm.encoder.layer.1.attention.self.value.base_layer.bias', 'esm.encoder.layer.1.attention.self.value.base_layer.weight', 'esm.encoder.layer.1.attention.self.value.lora_A.default.weight', 'esm.encoder.layer.1.attention.self.value.lora_B.default.weight', 'esm.encoder.layer.10.attention.self.query.base_layer.bias', 'esm.encoder.layer.10.attention.self.query.base_layer.weight', 'esm.encoder.layer.10.attention.self.query.lora_A.default.weight', 'esm.encoder.layer.10.attention.self.query.lora_B.default.weight', 'esm.encoder.layer.10.attention.self.value.base_layer.bias', 'esm.encoder.layer.10.attention.self.value.base_layer.weight', 'esm.encoder.layer.10.attention.self.value.lora_A.default.weight', 'esm.encoder.layer.10.attention.self.value.lora_B.default.weight', 'esm.encoder.layer.11.attention.self.query.base_layer.bias', 'esm.encoder.layer.11.attention.self.query.base_layer.weight', 'esm.encoder.layer.11.attention.self.query.lora_A.default.weight', 'esm.encoder.layer.11.attention.self.query.lora_B.default.weight', 'esm.encoder.layer.11.attention.self.value.base_layer.bias', 'esm.encoder.layer.11.attention.self.value.base_layer.weight', 'esm.encoder.layer.11.attention.self.value.lora_A.default.weight', 'esm.encoder.layer.11.attention.self.value.lora_B.default.weight', 'esm.encoder.layer.12.attention.self.query.base_layer.bias', 'esm.encoder.layer.12.attention.self.query.base_layer.weight', 'esm.encoder.layer.12.attention.self.query.lora_A.default.weight', 'esm.encoder.layer.12.attention.self.query.lora_B.default.weight', 'esm.encoder.layer.12.attention.self.value.base_layer.bias', 'esm.encoder.layer.12.attention.self.value.base_layer.weight', 'esm.encoder.layer.12.attention.self.value.lora_A.default.weight', 'esm.encoder.layer.12.attention.self.value.lora_B.default.weight', 'esm.encoder.layer.13.attention.self.query.base_layer.bias', 'esm.encoder.layer.13.attention.self.query.base_layer.weight', 'esm.encoder.layer.13.attention.self.query.lora_A.default.weight', 'esm.encoder.layer.13.attention.self.query.lora_B.default.weight', 'esm.encoder.layer.13.attention.self.value.base_layer.bias', 'esm.encoder.layer.13.attention.self.value.base_layer.weight', 'esm.encoder.layer.13.attention.self.value.lora_A.default.weight', 'esm.encoder.layer.13.attention.self.value.lora_B.default.weight', 'esm.encoder.layer.14.attention.self.query.base_layer.bias', 'esm.encoder.layer.14.attention.self.query.base_layer.weight', 'esm.encoder.layer.14.attention.self.query.lora_A.default.weight', 'esm.encoder.layer.14.attention.self.query.lora_B.default.weight', 'esm.encoder.layer.14.attention.self.value.base_layer.bias', 'esm.encoder.layer.14.attention.self.value.base_layer.weight', 'esm.encoder.layer.14.attention.self.value.lora_A.default.weight', 'esm.encoder.layer.14.attention.self.value.lora_B.default.weight', 'esm.encoder.layer.15.attention.self.query.base_layer.bias', 'esm.encoder.layer.15.attention.self.query.base_layer.weight', 'esm.encoder.layer.15.attention.self.query.lora_A.default.weight', 'esm.encoder.layer.15.attention.self.query.lora_B.default.weight', 'esm.encoder.layer.15.attention.self.value.base_layer.bias', 'esm.encoder.layer.15.attention.self.value.base_layer.weight', 'esm.encoder.layer.15.attention.self.value.lora_A.default.weight', 'esm.encoder.layer.15.attention.self.value.lora_B.default.weight', 'esm.encoder.layer.16.attention.self.query.base_layer.bias', 'esm.encoder.layer.16.attention.self.query.base_layer.weight', 'esm.encoder.layer.16.attention.self.query.lora_A.default.weight', 'esm.encoder.layer.16.attention.self.query.lora_B.default.weight', 'esm.encoder.layer.16.attention.self.value.base_layer.bias', 'esm.encoder.layer.16.attention.self.value.base_layer.weight', 'esm.encoder.layer.16.attention.self.value.lora_A.default.weight', 'esm.encoder.layer.16.attention.self.value.lora_B.default.weight', 'esm.encoder.layer.17.attention.self.query.base_layer.bias', 'esm.encoder.layer.17.attention.self.query.base_layer.weight', 'esm.encoder.layer.17.attention.self.query.lora_A.default.weight', 'esm.encoder.layer.17.attention.self.query.lora_B.default.weight', 'esm.encoder.layer.17.attention.self.value.base_layer.bias', 'esm.encoder.layer.17.attention.self.value.base_layer.weight', 'esm.encoder.layer.17.attention.self.value.lora_A.default.weight', 'esm.encoder.layer.17.attention.self.value.lora_B.default.weight', 'esm.encoder.layer.18.attention.self.query.base_layer.bias', 'esm.encoder.layer.18.attention.self.query.base_layer.weight', 'esm.encoder.layer.18.attention.self.query.lora_A.default.weight', 'esm.encoder.layer.18.attention.self.query.lora_B.default.weight', 'esm.encoder.layer.18.attention.self.value.base_layer.bias', 'esm.encoder.layer.18.attention.self.value.base_layer.weight', 'esm.encoder.layer.18.attention.self.value.lora_A.default.weight', 'esm.encoder.layer.18.attention.self.value.lora_B.default.weight', 'esm.encoder.layer.19.attention.self.query.base_layer.bias', 'esm.encoder.layer.19.attention.self.query.base_layer.weight', 'esm.encoder.layer.19.attention.self.query.lora_A.default.weight', 'esm.encoder.layer.19.attention.self.query.lora_B.default.weight', 'esm.encoder.layer.19.attention.self.value.base_layer.bias', 'esm.encoder.layer.19.attention.self.value.base_layer.weight', 'esm.encoder.layer.19.attention.self.value.lora_A.default.weight', 'esm.encoder.layer.19.attention.self.value.lora_B.default.weight', 'esm.encoder.layer.2.attention.self.query.base_layer.bias', 'esm.encoder.layer.2.attention.self.query.base_layer.weight', 'esm.encoder.layer.2.attention.self.query.lora_A.default.weight', 'esm.encoder.layer.2.attention.self.query.lora_B.default.weight', 'esm.encoder.layer.2.attention.self.value.base_layer.bias', 'esm.encoder.layer.2.attention.self.value.base_layer.weight', 'esm.encoder.layer.2.attention.self.value.lora_A.default.weight', 'esm.encoder.layer.2.attention.self.value.lora_B.default.weight', 'esm.encoder.layer.20.attention.self.query.base_layer.bias', 'esm.encoder.layer.20.attention.self.query.base_layer.weight', 'esm.encoder.layer.20.attention.self.query.lora_A.default.weight', 'esm.encoder.layer.20.attention.self.query.lora_B.default.weight', 'esm.encoder.layer.20.attention.self.value.base_layer.bias', 'esm.encoder.layer.20.attention.self.value.base_layer.weight', 'esm.encoder.layer.20.attention.self.value.lora_A.default.weight', 'esm.encoder.layer.20.attention.self.value.lora_B.default.weight', 'esm.encoder.layer.21.attention.self.query.base_layer.bias', 'esm.encoder.layer.21.attention.self.query.base_layer.weight', 'esm.encoder.layer.21.attention.self.query.lora_A.default.weight', 'esm.encoder.layer.21.attention.self.query.lora_B.default.weight', 'esm.encoder.layer.21.attention.self.value.base_layer.bias', 'esm.encoder.layer.21.attention.self.value.base_layer.weight', 'esm.encoder.layer.21.attention.self.value.lora_A.default.weight', 'esm.encoder.layer.21.attention.self.value.lora_B.default.weight', 'esm.encoder.layer.22.attention.self.query.base_layer.bias', 'esm.encoder.layer.22.attention.self.query.base_layer.weight', 'esm.encoder.layer.22.attention.self.query.lora_A.default.weight', 'esm.encoder.layer.22.attention.self.query.lora_B.default.weight', 'esm.encoder.layer.22.attention.self.value.base_layer.bias', 'esm.encoder.layer.22.attention.self.value.base_layer.weight', 'esm.encoder.layer.22.attention.self.value.lora_A.default.weight', 'esm.encoder.layer.22.attention.self.value.lora_B.default.weight', 'esm.encoder.layer.23.attention.self.query.base_layer.bias', 'esm.encoder.layer.23.attention.self.query.base_layer.weight', 'esm.encoder.layer.23.attention.self.query.lora_A.default.weight', 'esm.encoder.layer.23.attention.self.query.lora_B.default.weight', 'esm.encoder.layer.23.attention.self.value.base_layer.bias', 'esm.encoder.layer.23.attention.self.value.base_layer.weight', 'esm.encoder.layer.23.attention.self.value.lora_A.default.weight', 'esm.encoder.layer.23.attention.self.value.lora_B.default.weight', 'esm.encoder.layer.3.attention.self.query.base_layer.bias', 'esm.encoder.layer.3.attention.self.query.base_layer.weight', 'esm.encoder.layer.3.attention.self.query.lora_A.default.weight', 'esm.encoder.layer.3.attention.self.query.lora_B.default.weight', 'esm.encoder.layer.3.attention.self.value.base_layer.bias', 'esm.encoder.layer.3.attention.self.value.base_layer.weight', 'esm.encoder.layer.3.attention.self.value.lora_A.default.weight', 'esm.encoder.layer.3.attention.self.value.lora_B.default.weight', 'esm.encoder.layer.4.attention.self.query.base_layer.bias', 'esm.encoder.layer.4.attention.self.query.base_layer.weight', 'esm.encoder.layer.4.attention.self.query.lora_A.default.weight', 'esm.encoder.layer.4.attention.self.query.lora_B.default.weight', 'esm.encoder.layer.4.attention.self.value.base_layer.bias', 'esm.encoder.layer.4.attention.self.value.base_layer.weight', 'esm.encoder.layer.4.attention.self.value.lora_A.default.weight', 'esm.encoder.layer.4.attention.self.value.lora_B.default.weight', 'esm.encoder.layer.5.attention.self.query.base_layer.bias', 'esm.encoder.layer.5.attention.self.query.base_layer.weight', 'esm.encoder.layer.5.attention.self.query.lora_A.default.weight', 'esm.encoder.layer.5.attention.self.query.lora_B.default.weight', 'esm.encoder.layer.5.attention.self.value.base_layer.bias', 'esm.encoder.layer.5.attention.self.value.base_layer.weight', 'esm.encoder.layer.5.attention.self.value.lora_A.default.weight', 'esm.encoder.layer.5.attention.self.value.lora_B.default.weight', 'esm.encoder.layer.6.attention.self.query.base_layer.bias', 'esm.encoder.layer.6.attention.self.query.base_layer.weight', 'esm.encoder.layer.6.attention.self.query.lora_A.default.weight', 'esm.encoder.layer.6.attention.self.query.lora_B.default.weight', 'esm.encoder.layer.6.attention.self.value.base_layer.bias', 'esm.encoder.layer.6.attention.self.value.base_layer.weight', 'esm.encoder.layer.6.attention.self.value.lora_A.default.weight', 'esm.encoder.layer.6.attention.self.value.lora_B.default.weight', 'esm.encoder.layer.7.attention.self.query.base_layer.bias', 'esm.encoder.layer.7.attention.self.query.base_layer.weight', 'esm.encoder.layer.7.attention.self.query.lora_A.default.weight', 'esm.encoder.layer.7.attention.self.query.lora_B.default.weight', 'esm.encoder.layer.7.attention.self.value.base_layer.bias', 'esm.encoder.layer.7.attention.self.value.base_layer.weight', 'esm.encoder.layer.7.attention.self.value.lora_A.default.weight', 'esm.encoder.layer.7.attention.self.value.lora_B.default.weight', 'esm.encoder.layer.8.attention.self.query.base_layer.bias', 'esm.encoder.layer.8.attention.self.query.base_layer.weight', 'esm.encoder.layer.8.attention.self.query.lora_A.default.weight', 'esm.encoder.layer.8.attention.self.query.lora_B.default.weight', 'esm.encoder.layer.8.attention.self.value.base_layer.bias', 'esm.encoder.layer.8.attention.self.value.base_layer.weight', 'esm.encoder.layer.8.attention.self.value.lora_A.default.weight', 'esm.encoder.layer.8.attention.self.value.lora_B.default.weight', 'esm.encoder.layer.9.attention.self.query.base_layer.bias', 'esm.encoder.layer.9.attention.self.query.base_layer.weight', 'esm.encoder.layer.9.attention.self.query.lora_A.default.weight', 'esm.encoder.layer.9.attention.self.query.lora_B.default.weight', 'esm.encoder.layer.9.attention.self.value.base_layer.bias', 'esm.encoder.layer.9.attention.self.value.base_layer.weight', 'esm.encoder.layer.9.attention.self.value.lora_A.default.weight', 'esm.encoder.layer.9.attention.self.value.lora_B.default.weight']\n",
      "- This IS expected if you are initializing EsmForSequenceClassification from the checkpoint of a model trained on another task or with another architecture (e.g. initializing a BertForSequenceClassification model from a BertForPreTraining model).\n",
      "- This IS NOT expected if you are initializing EsmForSequenceClassification from the checkpoint of a model that you expect to be exactly identical (initializing a BertForSequenceClassification model from a BertForSequenceClassification model).\n"
     ]
    },
    {
     "name": "stderr",
     "output_type": "stream",
     "text": [
      "Some weights of EsmForSequenceClassification were not initialized from the model checkpoint at TEST_trained_model_GPU_200000_LoRA_sample_mcc_Score and are newly initialized: ['classifier.dense.bias', 'classifier.dense.weight', 'classifier.out_proj.bias', 'classifier.out_proj.weight', 'esm.encoder.layer.0.attention.self.query.bias', 'esm.encoder.layer.0.attention.self.query.weight', 'esm.encoder.layer.0.attention.self.value.bias', 'esm.encoder.layer.0.attention.self.value.weight', 'esm.encoder.layer.1.attention.self.query.bias', 'esm.encoder.layer.1.attention.self.query.weight', 'esm.encoder.layer.1.attention.self.value.bias', 'esm.encoder.layer.1.attention.self.value.weight', 'esm.encoder.layer.10.attention.self.query.bias', 'esm.encoder.layer.10.attention.self.query.weight', 'esm.encoder.layer.10.attention.self.value.bias', 'esm.encoder.layer.10.attention.self.value.weight', 'esm.encoder.layer.11.attention.self.query.bias', 'esm.encoder.layer.11.attention.self.query.weight', 'esm.encoder.layer.11.attention.self.value.bias', 'esm.encoder.layer.11.attention.self.value.weight', 'esm.encoder.layer.12.attention.self.query.bias', 'esm.encoder.layer.12.attention.self.query.weight', 'esm.encoder.layer.12.attention.self.value.bias', 'esm.encoder.layer.12.attention.self.value.weight', 'esm.encoder.layer.13.attention.self.query.bias', 'esm.encoder.layer.13.attention.self.query.weight', 'esm.encoder.layer.13.attention.self.value.bias', 'esm.encoder.layer.13.attention.self.value.weight', 'esm.encoder.layer.14.attention.self.query.bias', 'esm.encoder.layer.14.attention.self.query.weight', 'esm.encoder.layer.14.attention.self.value.bias', 'esm.encoder.layer.14.attention.self.value.weight', 'esm.encoder.layer.15.attention.self.query.bias', 'esm.encoder.layer.15.attention.self.query.weight', 'esm.encoder.layer.15.attention.self.value.bias', 'esm.encoder.layer.15.attention.self.value.weight', 'esm.encoder.layer.16.attention.self.query.bias', 'esm.encoder.layer.16.attention.self.query.weight', 'esm.encoder.layer.16.attention.self.value.bias', 'esm.encoder.layer.16.attention.self.value.weight', 'esm.encoder.layer.17.attention.self.query.bias', 'esm.encoder.layer.17.attention.self.query.weight', 'esm.encoder.layer.17.attention.self.value.bias', 'esm.encoder.layer.17.attention.self.value.weight', 'esm.encoder.layer.18.attention.self.query.bias', 'esm.encoder.layer.18.attention.self.query.weight', 'esm.encoder.layer.18.attention.self.value.bias', 'esm.encoder.layer.18.attention.self.value.weight', 'esm.encoder.layer.19.attention.self.query.bias', 'esm.encoder.layer.19.attention.self.query.weight', 'esm.encoder.layer.19.attention.self.value.bias', 'esm.encoder.layer.19.attention.self.value.weight', 'esm.encoder.layer.2.attention.self.query.bias', 'esm.encoder.layer.2.attention.self.query.weight', 'esm.encoder.layer.2.attention.self.value.bias', 'esm.encoder.layer.2.attention.self.value.weight', 'esm.encoder.layer.20.attention.self.query.bias', 'esm.encoder.layer.20.attention.self.query.weight', 'esm.encoder.layer.20.attention.self.value.bias', 'esm.encoder.layer.20.attention.self.value.weight', 'esm.encoder.layer.21.attention.self.query.bias', 'esm.encoder.layer.21.attention.self.query.weight', 'esm.encoder.layer.21.attention.self.value.bias', 'esm.encoder.layer.21.attention.self.value.weight', 'esm.encoder.layer.22.attention.self.query.bias', 'esm.encoder.layer.22.attention.self.query.weight', 'esm.encoder.layer.22.attention.self.value.bias', 'esm.encoder.layer.22.attention.self.value.weight', 'esm.encoder.layer.23.attention.self.query.bias', 'esm.encoder.layer.23.attention.self.query.weight', 'esm.encoder.layer.23.attention.self.value.bias', 'esm.encoder.layer.23.attention.self.value.weight', 'esm.encoder.layer.3.attention.self.query.bias', 'esm.encoder.layer.3.attention.self.query.weight', 'esm.encoder.layer.3.attention.self.value.bias', 'esm.encoder.layer.3.attention.self.value.weight', 'esm.encoder.layer.4.attention.self.query.bias', 'esm.encoder.layer.4.attention.self.query.weight', 'esm.encoder.layer.4.attention.self.value.bias', 'esm.encoder.layer.4.attention.self.value.weight', 'esm.encoder.layer.5.attention.self.query.bias', 'esm.encoder.layer.5.attention.self.query.weight', 'esm.encoder.layer.5.attention.self.value.bias', 'esm.encoder.layer.5.attention.self.value.weight', 'esm.encoder.layer.6.attention.self.query.bias', 'esm.encoder.layer.6.attention.self.query.weight', 'esm.encoder.layer.6.attention.self.value.bias', 'esm.encoder.layer.6.attention.self.value.weight', 'esm.encoder.layer.7.attention.self.query.bias', 'esm.encoder.layer.7.attention.self.query.weight', 'esm.encoder.layer.7.attention.self.value.bias', 'esm.encoder.layer.7.attention.self.value.weight', 'esm.encoder.layer.8.attention.self.query.bias', 'esm.encoder.layer.8.attention.self.query.weight', 'esm.encoder.layer.8.attention.self.value.bias', 'esm.encoder.layer.8.attention.self.value.weight', 'esm.encoder.layer.9.attention.self.query.bias', 'esm.encoder.layer.9.attention.self.query.weight', 'esm.encoder.layer.9.attention.self.value.bias', 'esm.encoder.layer.9.attention.self.value.weight']\n",
      "You should probably TRAIN this model on a down-stream task to be able to use it for predictions and inference.\n"
     ]
    }
   ],
   "source": [
    "# Load the saved tokenizer and model\n",
    "tokenizer = AutoTokenizer.from_pretrained(output_dir)\n",
    "model = AutoModelForSequenceClassification.from_pretrained(output_dir)"
   ]
  },
  {
   "cell_type": "code",
   "execution_count": 21,
   "id": "508fc6a0",
   "metadata": {},
   "outputs": [],
   "source": [
    "# Load the data, either FNS from Jingyun or Generated from Sangeetha\n",
    "\n",
    "FNS_dataframe = pd.read_csv('FNS Sequences for ML model validation.csv')\n",
    "# FNS_dataframe = pd.read_csv('Sangeetha_Seq_for_verification.csv')\n",
    "\n",
    "# Data preprocessing: Extracting the DNA samples\n",
    "FNS_dataframe = FNS_dataframe.dropna()\n",
    "FNS_samples = FNS_dataframe['Sample']\n",
    "FNS_samples.reset_index(drop=True, inplace=True)\n",
    "FNS_sequence = FNS_dataframe['DNA Sequence']\n",
    "FNS_sequence.reset_index(drop=True, inplace=True)\n",
    "\n",
    "# Extract sequences from the DataFrame\n",
    "new_sequences = FNS_sequence.tolist()\n",
    "\n",
    "# Tokenize the new sequences\n",
    "tokenized_sequences = tokenizer(new_sequences, return_tensors=\"pt\", padding=True, truncation=True)"
   ]
  },
  {
   "cell_type": "code",
   "execution_count": 22,
   "id": "d4b49f50",
   "metadata": {},
   "outputs": [],
   "source": [
    "# Perform inference\n",
    "model.eval()\n",
    "with torch.no_grad():\n",
    "    outputs = model(**tokenized_sequences)\n",
    "\n",
    "# Get the predicted labels\n",
    "predicted_labels = torch.argmax(outputs.logits, dim=1).tolist()\n",
    "\n",
    "# Add the predicted labels to the DataFrame\n",
    "FNS_dataframe['Predicted_Labels'] = predicted_labels\n",
    "\n",
    "# Save the DataFrame with predicted labels\n",
    "FNS_dataframe.to_csv(output_dir + '_FNS_Predictions.csv', index=False)"
   ]
  },
  {
   "cell_type": "code",
   "execution_count": 23,
   "id": "5a0e2bad",
   "metadata": {},
   "outputs": [
    {
     "data": {
      "text/html": [],
      "text/plain": [
       "<IPython.core.display.HTML object>"
      ]
     },
     "metadata": {},
     "output_type": "display_data"
    }
   ],
   "source": [
    "predict = trainer.predict(tokenized_test_dataset)\n",
    "prediction = []\n",
    "for i in predict[0]:\n",
    "    prediction.append(np.array(i).argmax())\n",
    "\n",
    "prediction = [int(i) for i in prediction]\n",
    "y_test2 = [int(i) for i in tokenized_test_dataset['labels']]"
   ]
  },
  {
   "cell_type": "code",
   "execution_count": 24,
   "id": "dcf153e1",
   "metadata": {},
   "outputs": [
    {
     "name": "stdout",
     "output_type": "stream",
     "text": [
      "The integer 0 appears 39738 time(s) in the list.\n",
      "The integer 1 appears 39497 time(s) in the list.\n",
      "The integer 2 appears 39923 time(s) in the list.\n",
      "{'Correctly Predicted-High': 98.56057174492928, 'Correctly Predicted-Medium': 0.729169303997772, 'Correctly Predicted-Low': 6.129298900383238}\n"
     ]
    }
   ],
   "source": [
    "\n",
    "# Dictionary to store counts of integers\n",
    "count_dict = {}\n",
    "count_dict[0] = 0\n",
    "count_dict[1] = 0\n",
    "count_dict[2] = 0\n",
    "\n",
    "# Count occurrences of integers in the list\n",
    "for i in y_test2:\n",
    "    if i==0:\n",
    "        count_dict[0] += 1\n",
    "    elif i==1:\n",
    "        count_dict[1] += 1\n",
    "    elif i==2:\n",
    "        count_dict[2] += 1\n",
    "\n",
    "# Print the counts of integers\n",
    "for num, count in count_dict.items():\n",
    "    print(f\"The integer {num} appears {count} time(s) in the list.\")\n",
    "    \n",
    "n_High,n_Medium,n_Low = count_dict.values()\n",
    "\n",
    "count_High,count_Medium,count_Low = 0,0,0\n",
    "\n",
    "for i in range(len(prediction)):\n",
    "    if prediction[i] == y_test2[i] and prediction[i] == 0:\n",
    "        count_High += 1\n",
    "    elif prediction[i] == y_test2[i] and prediction[i] == 1:\n",
    "        count_Medium += 1\n",
    "    elif prediction[i] == y_test2[i] and prediction[i] == 2:\n",
    "        count_Low += 1\n",
    "\n",
    "Correct_High = count_High/n_High * 100\n",
    "Correct_Medium = count_Medium/n_Medium * 100\n",
    "Correct_Low = count_Low/n_Low * 100\n",
    "\n",
    "results_RF2 = {'Correctly Predicted-High': Correct_High,\n",
    "           'Correctly Predicted-Medium': Correct_Medium, \\\n",
    "           'Correctly Predicted-Low':Correct_Low}\n",
    "print(results_RF2)"
   ]
  },
  {
   "cell_type": "code",
   "execution_count": 25,
   "id": "0539b2e4",
   "metadata": {},
   "outputs": [],
   "source": [
    "with open(output_dir + '_accuracy', 'w') as f:\n",
    "    for key, value in results_RF2.items(): \n",
    "        f.write('%s:%s\\n' % (key, value))\n",
    "f.close()"
   ]
  },
  {
   "cell_type": "code",
   "execution_count": null,
   "id": "b843991f",
   "metadata": {},
   "outputs": [],
   "source": []
  }
 ],
 "metadata": {
  "kernelspec": {
   "display_name": "Python 3 (ipykernel)",
   "language": "python",
   "name": "python3"
  },
  "language_info": {
   "codemirror_mode": {
    "name": "ipython",
    "version": 3
   },
   "file_extension": ".py",
   "mimetype": "text/x-python",
   "name": "python",
   "nbconvert_exporter": "python",
   "pygments_lexer": "ipython3",
   "version": "3.10.6"
  }
 },
 "nbformat": 4,
 "nbformat_minor": 5
}
