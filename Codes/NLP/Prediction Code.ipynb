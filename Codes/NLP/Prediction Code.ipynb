{
 "cells": [
  {
   "cell_type": "code",
   "execution_count": 10,
   "id": "009b51b2",
   "metadata": {},
   "outputs": [],
   "source": [
    "\n",
    "from transformers import AutoTokenizer, AutoModelForSequenceClassification\n",
    "import pandas as pd\n",
    "import torch\n",
    "# Load the saved tokenizer and model\n",
    "output_dir = \"trained_model_GPU_NLP_400000_64batchsize_2000steps_Data_MCC_H_L\"\n",
    "\n",
    "tokenizer = AutoTokenizer.from_pretrained(output_dir)\n",
    "model = AutoModelForSequenceClassification.from_pretrained(output_dir)\n",
    "\n",
    "FNS_dataframe = pd.read_csv('FNS Sequences for ML model validation.csv')\n",
    "# FNS_dataframe = pd.read_csv('Sangeetha_Seq_for_verification.csv')\n",
    "\n",
    "FNS_dataframe = FNS_dataframe.dropna()\n",
    "FNS_samples = FNS_dataframe['Sample']\n",
    "FNS_samples.reset_index(drop=True, inplace=True)\n",
    "FNS_sequence = FNS_dataframe['DNA Sequence']\n",
    "FNS_sequence.reset_index(drop=True, inplace=True)\n",
    "\n",
    "# Extract sequences from the DataFrame\n",
    "new_sequences = FNS_sequence.tolist()"
   ]
  },
  {
   "cell_type": "code",
   "execution_count": 11,
   "id": "a247485f",
   "metadata": {},
   "outputs": [],
   "source": [
    "# Tokenize the new sequences\n",
    "tokenized_sequences = tokenizer(new_sequences, return_tensors=\"pt\", padding=True, truncation=True)\n",
    "\n",
    "# Perform inference\n",
    "model.eval()\n",
    "with torch.no_grad():\n",
    "    outputs = model(**tokenized_sequences)\n",
    "\n"
   ]
  },
  {
   "cell_type": "code",
   "execution_count": 12,
   "id": "8852bcff",
   "metadata": {},
   "outputs": [],
   "source": [
    "# Get the predicted labels\n",
    "predicted_labels = torch.argmax(outputs.logits, dim=1).tolist()\n",
    "# class_mapping = {0: 'High', 1: 'Medium', 2: 'Low'}\n",
    "class_mapping = {0: 'High', 1: 'Low'}\n",
    "predicted_labels = [class_mapping[idx] for idx in predicted_labels]\n",
    "# Add the predicted labels to the DataFrame\n",
    "FNS_dataframe['Predicted_Labels'] = predicted_labels"
   ]
  },
  {
   "cell_type": "code",
   "execution_count": 13,
   "id": "5c28a62c",
   "metadata": {},
   "outputs": [
    {
     "name": "stdout",
     "output_type": "stream",
     "text": [
      "['High', 'Low', 'Low', 'Low', 'Low', 'Low', 'Low', 'Low', 'High', 'Low', 'High', 'Low', 'Low', 'High', 'Low', 'Low', 'Low', 'High', 'High', 'High', 'High', 'Low', 'High', 'Low', 'Low', 'High', 'High', 'Low', 'Low', 'Low', 'Low', 'Low', 'High', 'High', 'High', 'Low', 'High', 'High', 'Low', 'Low', 'High', 'Low', 'High', 'Low', 'Low', 'High', 'High', 'High', 'High', 'High', 'High', 'High', 'High', 'Low', 'Low', 'High', 'High', 'High', 'High', 'Low', 'High', 'Low', 'Low', 'Low', 'Low', 'Low', 'Low', 'High', 'High', 'Low', 'High', 'High', 'High', 'High', 'Low', 'Low', 'High', 'Low', 'Low', 'Low', 'High', 'High', 'Low', 'High', 'Low', 'High']\n"
     ]
    }
   ],
   "source": [
    "print(predicted_labels)"
   ]
  },
  {
   "cell_type": "code",
   "execution_count": 14,
   "id": "538bcdb7",
   "metadata": {},
   "outputs": [
    {
     "name": "stdout",
     "output_type": "stream",
     "text": [
      "Percentage of correct predictions using Jing Yun's Data: 48.837209302325576\n"
     ]
    }
   ],
   "source": [
    "x = pd.read_csv('JY_Exp_Results_H_L.csv')\n",
    "Count_Correct = 0\n",
    "for i in range(len(x)):\n",
    "    if x['Exp Classification'][i] == predicted_labels[i]:\n",
    "        Count_Correct +=1 \n",
    "\n",
    "Correct_Percentage = Count_Correct/len(x) * 100\n",
    "print(\"Percentage of correct predictions using Jing Yun's Data: \" + str(Correct_Percentage))\n"
   ]
  },
  {
   "cell_type": "code",
   "execution_count": null,
   "id": "d08e89da",
   "metadata": {},
   "outputs": [],
   "source": []
  },
  {
   "cell_type": "code",
   "execution_count": 5,
   "id": "8031a10a",
   "metadata": {},
   "outputs": [
    {
     "name": "stdout",
     "output_type": "stream",
     "text": [
      "          Sample                                       DNA Sequence  \\\n",
      "0     FNS (R2) 1  TTAGTGAAATGACGCGTCTTTCCCGCGAGTTCTTCGCTCTGCCAGC...   \n",
      "2     FNS (R2) 3  TTAGTGAAATGACGCGTCTTTCCCGCGAGTTCTTCGCTCTGCCAGC...   \n",
      "3     FNS (R2) 4  TTAGTGAAATGACGCGTCTTTCCCGCGAGTTCTTCGCTCTGCCAGC...   \n",
      "5     FNS (R2) 7  TTAGTGAAATGACGCGTCTTTCCCGCGAGTTCTTCGCTCTGCCAGC...   \n",
      "6     FNS (R2) 8  TTAGTGAAATGACGCGTCTTTCCCGCGAGTTCTTCGCTCTGCCAGC...   \n",
      "..           ...                                                ...   \n",
      "179   FNS (R6) 2  TTAGTGAAATGACGCGTCATTCCCGCGAGTTCTTCGCTCTGCCAGC...   \n",
      "180   FNS (R6) 3  TTAGTGAAATGACGCGTCTTTCCCGCGAGTTCTTCGCTCTGCCAGC...   \n",
      "182   FNS (R6) 5  TTAGTGAAATGACGCGTCTTTCCCGCGAGTTCTTCGCTCTGCCAGC...   \n",
      "183   FNS (R6) 6  TTAGTGAAATGACGCGTCTTTCCCGCGAGTTCTTCGCTCTGCCAGC...   \n",
      "188  FNS (R6) 11  TTAGTGAAATGACGCGTCATTCCCGCGAGTTCTTCGCTCTGCCAGC...   \n",
      "\n",
      "     Predicted_Labels  \n",
      "0                   1  \n",
      "2                   1  \n",
      "3                   1  \n",
      "5                   0  \n",
      "6                   0  \n",
      "..                ...  \n",
      "179                 2  \n",
      "180                 1  \n",
      "182                 0  \n",
      "183                 1  \n",
      "188                 2  \n",
      "\n",
      "[86 rows x 3 columns]\n"
     ]
    }
   ],
   "source": [
    "print(FNS_dataframe)"
   ]
  }
 ],
 "metadata": {
  "kernelspec": {
   "display_name": "Python 3 (ipykernel)",
   "language": "python",
   "name": "python3"
  },
  "language_info": {
   "codemirror_mode": {
    "name": "ipython",
    "version": 3
   },
   "file_extension": ".py",
   "mimetype": "text/x-python",
   "name": "python",
   "nbconvert_exporter": "python",
   "pygments_lexer": "ipython3",
   "version": "3.10.6"
  }
 },
 "nbformat": 4,
 "nbformat_minor": 5
}
