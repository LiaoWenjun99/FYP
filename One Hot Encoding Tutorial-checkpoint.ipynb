{
 "cells": [
  {
   "cell_type": "code",
   "execution_count": 2,
   "id": "3920492b",
   "metadata": {},
   "outputs": [
    {
     "name": "stdout",
     "output_type": "stream",
     "text": [
      "[[1. 0. 0. 0.]\n",
      " [0. 0. 0. 1.]\n",
      " [0. 0. 0. 1.]\n",
      " [0. 0. 0. 1.]\n",
      " [1. 0. 0. 0.]\n",
      " [0. 1. 0. 0.]\n",
      " [0. 0. 1. 0.]\n",
      " [0. 0. 1. 0.]\n",
      " [1. 0. 0. 0.]\n",
      " [0. 0. 0. 1.]\n",
      " [0. 0. 0. 1.]\n",
      " [0. 0. 1. 0.]\n",
      " [0. 1. 0. 0.]\n",
      " [0. 0. 0. 1.]\n",
      " [0. 0. 1. 0.]\n",
      " [1. 0. 0. 0.]]\n"
     ]
    }
   ],
   "source": [
    "#A is encoded as (1,0,0,0), C as (0,1,0,0)\n",
    "#G as (0,0,1,0), T as (0,0,0,1).\n",
    "import numpy as np\n",
    "def onehote(sequence):\n",
    "    mapping = {\"A\": 0, \"C\": 1, \"G\": 2, \"T\": 3}\n",
    "    seq2 = [mapping[i] for i in sequence]\n",
    "    return np.eye(4)[seq2]\n",
    "\n",
    "dna='ATTTACGGATTGCTGA'\n",
    "#calling onehote function\n",
    "oneHotEncodedDna= onehote(dna)\n",
    "print(oneHotEncodedDna)"
   ]
  },
  {
   "cell_type": "code",
   "execution_count": 6,
   "id": "256e1c7b",
   "metadata": {},
   "outputs": [
    {
     "name": "stdout",
     "output_type": "stream",
     "text": [
      "DNA\n",
      " ['A', 'T', 'G', 'A', 'T', 'C', 'G', 'C', 'A', 'T', 'A', 'G', 'A', 'T', 'G', 'A', 'C', 'T', 'A', 'G']\n",
      "Seq_array: ['A' 'T' 'G' 'A' 'T' 'C' 'G' 'C' 'A' 'T' 'A' 'G' 'A' 'T' 'G' 'A' 'C' 'T'\n",
      " 'A' 'G']\n",
      "label_encoder: LabelEncoder()\n",
      "onehot_encoder: OneHotEncoder(sparse=False)\n",
      "integer_encoded_seq:\n",
      " [[0]\n",
      " [3]\n",
      " [2]\n",
      " [0]\n",
      " [3]\n",
      " [1]\n",
      " [2]\n",
      " [1]\n",
      " [0]\n",
      " [3]\n",
      " [0]\n",
      " [2]\n",
      " [0]\n",
      " [3]\n",
      " [2]\n",
      " [0]\n",
      " [1]\n",
      " [3]\n",
      " [0]\n",
      " [2]]\n",
      "encoded DNA \n",
      " [[1. 0. 0. 1. 0. 0. 0. 0. 1. 0. 1. 0. 1. 0. 0. 1. 0. 0. 1. 0.]\n",
      " [0. 0. 0. 0. 0. 1. 0. 1. 0. 0. 0. 0. 0. 0. 0. 0. 1. 0. 0. 0.]\n",
      " [0. 0. 1. 0. 0. 0. 1. 0. 0. 0. 0. 1. 0. 0. 1. 0. 0. 0. 0. 1.]\n",
      " [0. 1. 0. 0. 1. 0. 0. 0. 0. 1. 0. 0. 0. 1. 0. 0. 0. 1. 0. 0.]]\n"
     ]
    },
    {
     "name": "stderr",
     "output_type": "stream",
     "text": [
      "C:\\Users\\Wenjun\\anaconda3\\lib\\site-packages\\sklearn\\preprocessing\\_encoders.py:972: FutureWarning: `sparse` was renamed to `sparse_output` in version 1.2 and will be removed in 1.4. `sparse_output` is ignored unless you leave `sparse` to its default value.\n",
      "  warnings.warn(\n"
     ]
    }
   ],
   "source": [
    "from sklearn.preprocessing import LabelEncoder\n",
    "from sklearn.preprocessing import OneHotEncoder\n",
    "def onehote(sequence):\n",
    "  seq_array = np.array(list(sequence)) \n",
    "  print(\"Seq_array:\",seq_array)\n",
    "  #integer encode the sequence\n",
    "  label_encoder = LabelEncoder()\n",
    "  print(\"label_encoder:\",label_encoder)  \n",
    "  integer_encoded_seq = label_encoder.fit_transform(seq_array) \n",
    "  #one hot the sequence\n",
    "  onehot_encoder = OneHotEncoder(sparse=False)\n",
    "  print(\"onehot_encoder:\",onehot_encoder)\n",
    "  #reshape because that's what OneHotEncoder likes\n",
    "  integer_encoded_seq = integer_encoded_seq.reshape(len(integer_encoded_seq), 1)\n",
    "  print(\"integer_encoded_seq:\\n\",integer_encoded_seq)\n",
    "  onehot_encoded_seq = onehot_encoder.fit_transform(integer_encoded_seq)\n",
    "  return onehot_encoded_seq\n",
    "dna='ATGATCGCATAGATGACTAG'\n",
    "print(\"DNA\\n\",list(dna))\n",
    "print(\"encoded DNA \\n\",onehote(dna).T)"
   ]
  }
 ],
 "metadata": {
  "kernelspec": {
   "display_name": "Python 3 (ipykernel)",
   "language": "python",
   "name": "python3"
  },
  "language_info": {
   "codemirror_mode": {
    "name": "ipython",
    "version": 3
   },
   "file_extension": ".py",
   "mimetype": "text/x-python",
   "name": "python",
   "nbconvert_exporter": "python",
   "pygments_lexer": "ipython3",
   "version": "3.9.17"
  }
 },
 "nbformat": 4,
 "nbformat_minor": 5
}
